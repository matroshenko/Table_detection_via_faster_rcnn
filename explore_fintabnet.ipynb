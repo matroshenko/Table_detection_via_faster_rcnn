{
 "cells": [
  {
   "cell_type": "code",
   "execution_count": null,
   "id": "e1284fea",
   "metadata": {},
   "outputs": [],
   "source": [
    "%matplotlib inline "
   ]
  },
  {
   "cell_type": "code",
   "execution_count": null,
   "id": "aab1427c",
   "metadata": {},
   "outputs": [],
   "source": [
    "from matplotlib import pyplot as plt\n",
    "import cv2\n",
    "\n",
    "from config import config, finalize_configs\n",
    "from viz import draw_annotation\n",
    "from tensorpack.utils.viz import interactive_imshow as imshow\n",
    "from dataset.fintabnet import register_fintabnet\n",
    "from dataset import DatasetRegistry"
   ]
  },
  {
   "cell_type": "code",
   "execution_count": null,
   "id": "89ace3e8",
   "metadata": {},
   "outputs": [],
   "source": [
    "register_fintabnet(config.DATA.BASEDIR)\n",
    "finalize_configs(False)"
   ]
  },
  {
   "cell_type": "code",
   "execution_count": null,
   "id": "facf9a0a",
   "metadata": {},
   "outputs": [],
   "source": [
    "ds = DatasetRegistry.get('fintabnet_train')\n",
    "roidbs = ds.training_roidbs()\n",
    "print(\"#images:\", len(roidbs))"
   ]
  },
  {
   "cell_type": "code",
   "execution_count": null,
   "id": "70137974",
   "metadata": {},
   "outputs": [],
   "source": [
    "fig, axes = plt.subplots(6, 2, figsize=(16,64))\n",
    "\n",
    "for r, ax in zip(roidbs, axes.flat):\n",
    "    page_image = cv2.imread(r[\"file_name\"])\n",
    "    debug_image = draw_annotation(page_image, r[\"boxes\"], r[\"class\"])\n",
    "    ax.get_xaxis().set_visible(False)\n",
    "    ax.get_yaxis().set_visible(False)\n",
    "    ax.imshow(debug_image)\n",
    "plt.show()"
   ]
  }
 ],
 "metadata": {
  "kernelspec": {
   "display_name": "Python 3 (ipykernel)",
   "language": "python",
   "name": "python3"
  },
  "language_info": {
   "codemirror_mode": {
    "name": "ipython",
    "version": 3
   },
   "file_extension": ".py",
   "mimetype": "text/x-python",
   "name": "python",
   "nbconvert_exporter": "python",
   "pygments_lexer": "ipython3",
   "version": "3.7.11"
  }
 },
 "nbformat": 4,
 "nbformat_minor": 5
}

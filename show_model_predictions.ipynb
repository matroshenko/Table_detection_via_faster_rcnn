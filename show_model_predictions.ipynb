{
 "cells": [
  {
   "cell_type": "code",
   "execution_count": null,
   "id": "c386dbf6",
   "metadata": {},
   "outputs": [],
   "source": [
    "%matplotlib inline "
   ]
  },
  {
   "cell_type": "code",
   "execution_count": null,
   "id": "64ecc345",
   "metadata": {},
   "outputs": [],
   "source": [
    "import random\n",
    "\n",
    "from matplotlib import pyplot as plt\n",
    "import cv2\n",
    "from tensorpack.tfutils import SmartInit\n",
    "from tensorpack.predict import OfflinePredictor, PredictConfig\n",
    "\n",
    "from config import config, finalize_configs\n",
    "from dataset.fintabnet import register_fintabnet\n",
    "from dataset import DatasetRegistry\n",
    "from modeling.generalized_rcnn import ResNetC4Model, ResNetFPNModel\n",
    "from eval import predict_image\n",
    "from viz import draw_final_outputs"
   ]
  },
  {
   "cell_type": "code",
   "execution_count": null,
   "id": "a3b0ba72",
   "metadata": {},
   "outputs": [],
   "source": [
    "register_fintabnet(config.DATA.BASEDIR)\n",
    "finalize_configs(False)"
   ]
  },
  {
   "cell_type": "code",
   "execution_count": null,
   "id": "ec3c3bf7",
   "metadata": {},
   "outputs": [],
   "source": [
    "ds = DatasetRegistry.get('fintabnet_val')\n",
    "roidbs = ds.inference_roidbs()\n",
    "random.seed(42)\n",
    "random.shuffle(roidbs)\n",
    "print(\"#images:\", len(roidbs))"
   ]
  },
  {
   "cell_type": "code",
   "execution_count": null,
   "id": "b4433665",
   "metadata": {},
   "outputs": [],
   "source": [
    "model_file_path = 'train_log/fpn_v2/model-1440000'\n",
    "MODEL = ResNetFPNModel() if config.MODE_FPN else ResNetC4Model()\n",
    "config.TEST.RESULT_SCORE_THRESH = config.TEST.RESULT_SCORE_THRESH_VIS\n",
    "predcfg = PredictConfig(\n",
    "            model=MODEL,\n",
    "            session_init=SmartInit(model_file_path),\n",
    "            input_names=MODEL.get_inference_tensor_names()[0],\n",
    "            output_names=MODEL.get_inference_tensor_names()[1])\n",
    "predictor = OfflinePredictor(predcfg)"
   ]
  },
  {
   "cell_type": "code",
   "execution_count": null,
   "id": "facbf779",
   "metadata": {},
   "outputs": [],
   "source": [
    "fig, axes = plt.subplots(6, 2, figsize=(16,64))\n",
    "\n",
    "for r, ax in zip(roidbs, axes.flat):\n",
    "    page_image = cv2.imread(r[\"file_name\"])\n",
    "    predictions = predict_image(page_image, predictor)\n",
    "    debug_image = draw_final_outputs(page_image, predictions)\n",
    "    ax.get_xaxis().set_visible(False)\n",
    "    ax.get_yaxis().set_visible(False)\n",
    "    ax.imshow(debug_image)\n",
    "plt.savefig('.github/fpn_predictions.png', bbox_inches='tight')\n",
    "plt.show()"
   ]
  }
 ],
 "metadata": {
  "kernelspec": {
   "display_name": "Python 3 (ipykernel)",
   "language": "python",
   "name": "python3"
  },
  "language_info": {
   "codemirror_mode": {
    "name": "ipython",
    "version": 3
   },
   "file_extension": ".py",
   "mimetype": "text/x-python",
   "name": "python",
   "nbconvert_exporter": "python",
   "pygments_lexer": "ipython3",
   "version": "3.7.11"
  }
 },
 "nbformat": 4,
 "nbformat_minor": 5
}
